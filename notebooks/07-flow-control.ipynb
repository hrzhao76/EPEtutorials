{
 "cells": [
  {
   "cell_type": "markdown",
   "metadata": {},
   "source": [
    "# Flow Control"
   ]
  },
  {
   "cell_type": "markdown",
   "metadata": {},
   "source": [
    "**Materials by: Joshua R. Smith, Milad Fatenejad, Katy Huff, Tommy Gyu, John Blischay and many more**"
   ]
  },
  {
   "cell_type": "markdown",
   "metadata": {},
   "source": [
    "In this lesson we will cover how to write code that will execute only if specified conditions are met and also how to automate repetitive tasks using loops."
   ]
  },
  {
   "cell_type": "markdown",
   "metadata": {},
   "source": [
    "# Comparisons\n",
    "\n",
    "Python comes with literal comparison operators.  Namely, `< > <= >= == !=`.  All comparisons return the literal boolean values: `True` or `False`.  These can be used to test values against one another. For example,"
   ]
  },
  {
   "cell_type": "code",
   "execution_count": null,
   "metadata": {},
   "outputs": [],
   "source": [
    "2 + 2 == 4"
   ]
  },
  {
   "cell_type": "code",
   "execution_count": null,
   "metadata": {},
   "outputs": [],
   "source": [
    "'big' < 'small' # Strings are compared alphabetically, where A to Z is least to greatest"
   ]
  },
  {
   "cell_type": "code",
   "execution_count": null,
   "metadata": {},
   "outputs": [],
   "source": [
    "4 - 2 == 3 + 2"
   ]
  },
  {
   "cell_type": "code",
   "execution_count": null,
   "metadata": {},
   "outputs": [],
   "source": [
    "'banana' != 24"
   ]
  },
  {
   "cell_type": "markdown",
   "metadata": {},
   "source": [
    "Comparisons can be chained together with the the `and` & `or` Python keywords. \n",
    "- `and`: If both terms are true, returns `True`, and if not, returns `False`.\n",
    "- `or`: If either is true, returns `True`, and if not, returns `False`."
   ]
  },
  {
   "cell_type": "code",
   "execution_count": null,
   "metadata": {},
   "outputs": [],
   "source": [
    "1 == 1.0 and 'hello' == 'hello'"
   ]
  },
  {
   "cell_type": "code",
   "execution_count": null,
   "metadata": {},
   "outputs": [],
   "source": [
    "1 > 10 or False"
   ]
  },
  {
   "cell_type": "code",
   "execution_count": null,
   "metadata": {},
   "outputs": [],
   "source": [
    "42 < 24 or True and 'wow' != 'mom'"
   ]
  },
  {
   "cell_type": "markdown",
   "metadata": {},
   "source": [
    "Comparisons may also be negated using the `not` keyword."
   ]
  },
  {
   "cell_type": "code",
   "execution_count": null,
   "metadata": {},
   "outputs": [],
   "source": [
    "not 2 + 2 == 5"
   ]
  },
  {
   "cell_type": "code",
   "execution_count": null,
   "metadata": {},
   "outputs": [],
   "source": [
    "not 12 > 7"
   ]
  },
  {
   "cell_type": "markdown",
   "metadata": {},
   "source": [
    "Finally, the `is` opperator says whether two objects are the same because they occupy the same place in memory.  This is a test of *equality* (is) rather than *equivalence* (==)."
   ]
  },
  {
   "cell_type": "code",
   "execution_count": null,
   "metadata": {},
   "outputs": [],
   "source": [
    "x = [1, 2, 3]\n",
    "y = [1, 2, 3]\n",
    "x is y"
   ]
  },
  {
   "cell_type": "code",
   "execution_count": null,
   "metadata": {},
   "outputs": [],
   "source": [
    "x = 'hello'\n",
    "y = x\n",
    "x is y"
   ]
  },
  {
   "cell_type": "code",
   "execution_count": null,
   "metadata": {},
   "outputs": [],
   "source": [
    "5 is 5.0"
   ]
  },
  {
   "cell_type": "code",
   "execution_count": null,
   "metadata": {},
   "outputs": [],
   "source": [
    "5 is not 5.0"
   ]
  },
  {
   "cell_type": "markdown",
   "metadata": {},
   "source": [
    "# If statements\n",
    "\n",
    "That said, these comparisons can be placed inside of an `if` statement.  Such statements have the following form:\n",
    "\n",
    "    if <condition>:\n",
    "        <indented block of code>\n",
    "\n",
    "The indented code will only be executed if the condition evaulates to `True`, which is a special boolean value."
   ]
  },
  {
   "cell_type": "code",
   "execution_count": null,
   "metadata": {},
   "outputs": [],
   "source": [
    "x = 5\n",
    "if x < 0:\n",
    "    print(\"x is negative\")"
   ]
  },
  {
   "cell_type": "code",
   "execution_count": null,
   "metadata": {},
   "outputs": [],
   "source": [
    "x = -5\n",
    "if x < 0:\n",
    "    print(\"x is negative\")"
   ]
  },
  {
   "cell_type": "markdown",
   "metadata": {},
   "source": [
    "The `if` statement can be combined to great effect with a corresponding `else` clause. \n",
    "\n",
    "    if <condition>:\n",
    "        <if-block>\n",
    "    else:\n",
    "        <else-block>\n",
    "        \n",
    "If the condition is `True` the if-block is executed, or else the else-block is executed instead."
   ]
  },
  {
   "cell_type": "code",
   "execution_count": null,
   "metadata": {},
   "outputs": [],
   "source": [
    "x = 5\n",
    "if x < 0:\n",
    "    print(\"x is negative\")\n",
    "else:\n",
    "    print(\"x in non-negative\")"
   ]
  },
  {
   "cell_type": "markdown",
   "metadata": {},
   "source": [
    "Many cases may be tested by using the `elif` statement.  These come between all the `if` and `else` statements:\n",
    "\n",
    "    if <if-condition>:\n",
    "        <if-block>\n",
    "    elif <elif-condition>:\n",
    "        <elif-block>\n",
    "    else:\n",
    "        <else-block>\n",
    "        \n",
    "If the if-condition is true then only the if-block is executed.  Or else if the elif-condition is true then only the elif-block is executed.  Or else the else-block is executed."
   ]
  },
  {
   "cell_type": "code",
   "execution_count": null,
   "metadata": {},
   "outputs": [],
   "source": [
    "x = 5\n",
    "if x < 0:\n",
    "    print(\"x is negative\")\n",
    "elif x == 0:\n",
    "    print(\"x is zero\")\n",
    "else:\n",
    "    print(\"x is positive\")"
   ]
  },
  {
   "cell_type": "markdown",
   "metadata": {},
   "source": [
    "While there must be one if statetment, and there may be at most one else statement, there maybe as many elif statements as are desired.\n",
    "\n",
    "    if <if-condition>:\n",
    "        <if-block>\n",
    "    elif <elif-condition1>:\n",
    "        <elif-block1>\n",
    "    elif <elif-condition2>:\n",
    "        <elif-block2>\n",
    "    elif <elif-condition3>:\n",
    "        <elif-block3>\n",
    "    ...\n",
    "    else:\n",
    "        <else-block>\n",
    "        \n",
    "Only the block for top most condition that is true is executed."
   ]
  },
  {
   "cell_type": "code",
   "execution_count": null,
   "metadata": {},
   "outputs": [],
   "source": [
    "x = 5\n",
    "if x < 0:\n",
    "    print(\"x is negative\")\n",
    "elif x == 0:\n",
    "    print(\"x is zero\")\n",
    "elif x > 0:\n",
    "    print(\"x is positive\")\n",
    "elif x == 2:\n",
    "    print(\"x is two\")\n",
    "else:\n",
    "    print(\"x is positive and not 2\")"
   ]
  },
  {
   "cell_type": "markdown",
   "metadata": {},
   "source": [
    "Be careful because the computer interprets comparisons very literally."
   ]
  },
  {
   "cell_type": "code",
   "execution_count": null,
   "metadata": {},
   "outputs": [],
   "source": [
    "'1' < 2"
   ]
  },
  {
   "cell_type": "code",
   "execution_count": null,
   "metadata": {},
   "outputs": [],
   "source": [
    "True == 'True'"
   ]
  },
  {
   "cell_type": "code",
   "execution_count": null,
   "metadata": {},
   "outputs": [],
   "source": [
    "False == 0"
   ]
  },
  {
   "cell_type": "code",
   "execution_count": null,
   "metadata": {},
   "outputs": [],
   "source": [
    "'Bears' > 'Packers'"
   ]
  },
  {
   "cell_type": "markdown",
   "metadata": {},
   "source": [
    "### Aside About Indentation\n",
    "\n",
    "The indentation is a feature of Python syntax. Some other programming languages use brackets to denote a command block. Python uses indentation. The amount of indentation doesn't matter, so long as everything in the same block is indented the same amount."
   ]
  },
  {
   "cell_type": "markdown",
   "metadata": {},
   "source": [
    "**Exercise:** Write an if statement that prints whether x is even or odd. Hint: search up the modulus operator."
   ]
  },
  {
   "cell_type": "code",
   "execution_count": null,
   "metadata": {},
   "outputs": [],
   "source": [
    "x = 1\n",
    "\n",
    "if False:\n",
    "    print(\"x is even\")\n",
    "else:\n",
    "    print(\"x is odd\")"
   ]
  },
  {
   "cell_type": "markdown",
   "metadata": {},
   "source": [
    "# Loops\n",
    "\n",
    "Loops come in two flavors: `while` and `for`.  While loops have the following structure:\n",
    "\n",
    "    while <condition>:\n",
    "        <indented block of code>\n",
    "        \n",
    "While the condition is True, the code in the block will continue to execute.  \n",
    "**Warning!** This may lead to infitinely executing loops if the condition never becomes false!"
   ]
  },
  {
   "cell_type": "code",
   "execution_count": null,
   "metadata": {},
   "outputs": [],
   "source": [
    "fruits = ['apples', 'oranges', 'pears', 'bananas']\n",
    "i = 0\n",
    "while i < len(fruits):\n",
    "    print(fruits[i])\n",
    "    i = i + 1"
   ]
  },
  {
   "cell_type": "markdown",
   "metadata": {},
   "source": [
    "Meanwhile, for-loops have the following structure:\n",
    "\n",
    "    for <loop variable name> in <iterable>:\n",
    "         <indented block of code>\n",
    "         \n",
    "The loop will continue to execute as long as there are more iterations left in the iterable.  In other words, for each element in the iterable, run the indented code. Upon each iteration, the value of that iteration is assigned to the loop variable."
   ]
  },
  {
   "cell_type": "code",
   "execution_count": null,
   "metadata": {},
   "outputs": [],
   "source": [
    "for fruit in fruits:\n",
    "    print(fruit)"
   ]
  },
  {
   "cell_type": "code",
   "execution_count": null,
   "metadata": {},
   "outputs": [],
   "source": [
    "# range(n) generates numbers [0,n); n is excluded\n",
    "for i in range(len(fruits)):\n",
    "    print(i, fruits[i])"
   ]
  },
  {
   "cell_type": "code",
   "execution_count": null,
   "metadata": {},
   "outputs": [],
   "source": [
    "# Use zip to iterate over two lists at once\n",
    "fruits = ['apples', 'oranges', 'pears', 'bananas']\n",
    "prices = [0.49, 0.99, 1.49, 0.32]\n",
    "for fruit, price in zip(fruits, prices):\n",
    "    print(fruit, \"cost\", price, \"each\")"
   ]
  },
  {
   "cell_type": "code",
   "execution_count": null,
   "metadata": {},
   "outputs": [],
   "source": [
    "# Use \"items\" to iterate over a dictionary\n",
    "# Note the order is non-deterministic\n",
    "prices = {'apples': 0.49, 'oranges': 0.99, 'pears': 1.49, 'bananas': 0.32}\n",
    "for fruit, price in prices.items():\n",
    "    print(fruit, \"cost\", price, \"each\")"
   ]
  },
  {
   "cell_type": "code",
   "execution_count": null,
   "metadata": {},
   "outputs": [],
   "source": [
    "# Calculating a sum\n",
    "values = [1254, 95818, 61813541, 1813, 4]\n",
    "total = 0\n",
    "for x in values:\n",
    "    total = total + x\n",
    "print(total)"
   ]
  },
  {
   "cell_type": "markdown",
   "metadata": {},
   "source": [
    "## Short Exercise\n",
    "Using a loop, calculate the factorial of 42 (the product of all integers up to and including 42)."
   ]
  },
  {
   "cell_type": "code",
   "execution_count": null,
   "metadata": {},
   "outputs": [],
   "source": [
    "import math\n",
    "\n",
    "answer = 0\n",
    "\n",
    "# Your code here\n",
    "\n",
    "# Answer checked here\n",
    "assert(answer == math.factorial(42)) # This will give an error if your answer is incorrect\n",
    "print(\"Your solution is correct.\")"
   ]
  },
  {
   "cell_type": "markdown",
   "metadata": {},
   "source": [
    "## break, continue, and else\n",
    "\n",
    "A `break` statement exits a loop. It helps\n",
    "avoid infinite loops by cutting off loops when they're clearly going\n",
    "nowhere."
   ]
  },
  {
   "cell_type": "code",
   "execution_count": null,
   "metadata": {},
   "outputs": [],
   "source": [
    "# Prints numbers while n != reasonable\n",
    "reasonable = 10\n",
    "for n in range(1,2000):\n",
    "    if n == reasonable :\n",
    "        break\n",
    "    print(n)"
   ]
  },
  {
   "cell_type": "markdown",
   "metadata": {},
   "source": [
    "Something you might want to do instead of breaking is to `continue` to the\n",
    "next iteration of a loop, giving up on the current one."
   ]
  },
  {
   "cell_type": "code",
   "execution_count": null,
   "metadata": {},
   "outputs": [],
   "source": [
    "# Prints numbers from 1 - 19, excluding 10\n",
    "reasonable = 10\n",
    "for n in range(1,20):\n",
    "    if n == reasonable :\n",
    "      continue\n",
    "    print(n)"
   ]
  },
  {
   "cell_type": "markdown",
   "metadata": {},
   "source": [
    "Importantly, Python allows you to use an else statement in a for loop.\n",
    "\n",
    "That is :"
   ]
  },
  {
   "cell_type": "code",
   "execution_count": null,
   "metadata": {},
   "outputs": [],
   "source": [
    "knights={\"Sir Belvedere\":\"the Wise\", \n",
    "         \"Sir Lancelot\":\"the Brave\", \n",
    "         \"Sir Galahad\":\"the Pure\", \n",
    "         \"Sir Robin\":\"the Brave\", \n",
    "         \"The Black Knight\":\"John Cleese\"} \n",
    "\n",
    "favorites = list(knights.keys()) # convert keys to list\n",
    "favorites.remove(\"Sir Robin\") # this guy is not a favorite\n",
    "for name, title in knights.items() : \n",
    "    string = name + \", \"\n",
    "    for fav in favorites :\n",
    "        if fav == name :\n",
    "            string += title\n",
    "            break\n",
    "    else: # this is executed if loop above does not break\n",
    "        string += title + \", but not quite so brave as Sir Lancelot.\" \n",
    "    print(string)"
   ]
  },
  {
   "cell_type": "markdown",
   "metadata": {},
   "source": [
    "# List comprehensions\n",
    "Python has another way to perform iteration called list comprehensions. The general forms are:\n",
    "\n",
    "    [<elementToAdd> for i in iterator]\n",
    "    [<elementToAdd> for i in iterator if <condition>]\n",
    "    [<elementToAdd1> if <condition1> else <elementToAdd2> for i in iterator]\n",
    "    \n",
    "You can think of list comprehensions as a for-loop formatted differently, which takes an existing iterable object and creates a new list. "
   ]
  },
  {
   "cell_type": "code",
   "execution_count": null,
   "metadata": {},
   "outputs": [],
   "source": [
    "# Multiply every number in a list by 2 using a for loop\n",
    "nums1 = [5, 1, 3, 10]\n",
    "nums2 = []\n",
    "for i in range(len(nums1)):\n",
    "    nums2.append(nums1[i] * 2)\n",
    "    \n",
    "print(nums2)"
   ]
  },
  {
   "cell_type": "code",
   "execution_count": null,
   "metadata": {},
   "outputs": [],
   "source": [
    "# Multiply every number in a list by 2 using a list comprehension\n",
    "nums2 = [x * 2 for x in nums1]\n",
    "\n",
    "print(nums2)"
   ]
  },
  {
   "cell_type": "code",
   "execution_count": null,
   "metadata": {},
   "outputs": [],
   "source": [
    "# Multiply every number in a list by 2, but only if the number is greater than 4\n",
    "nums1 = [5, 1, 3, 10]\n",
    "nums2 = []\n",
    "for i in range(len(nums1)):\n",
    "    if nums1[i] > 4:\n",
    "        nums2.append(nums1[i] * 2)\n",
    "    else:\n",
    "        nums2.append(nums1[i])\n",
    "print(nums2)"
   ]
  },
  {
   "cell_type": "code",
   "execution_count": null,
   "metadata": {},
   "outputs": [],
   "source": [
    "# And using a list comprehension\n",
    "nums2 = [x * 2 if x > 4 else x for x in nums1]\n",
    "\n",
    "print(nums2)"
   ]
  },
  {
   "cell_type": "markdown",
   "metadata": {},
   "source": [
    "# Reading and Writing files with loops\n",
    "Loops make processing files by each line simple."
   ]
  },
  {
   "cell_type": "code",
   "execution_count": null,
   "metadata": {},
   "outputs": [],
   "source": [
    "my_file = open(\"OtherFiles/example.txt\",\"r\")\n",
    "for line in my_file:\n",
    "    print(line.strip()) # .strip() removes all the whitespace at the beginning and end\n",
    "my_file.close()"
   ]
  },
  {
   "cell_type": "code",
   "execution_count": null,
   "metadata": {},
   "outputs": [],
   "source": [
    "new_file = open(\"OtherFiles/example2.txt\", \"w+\") # write a new file\n",
    "dwight = ['bears', 'beets', 'Battlestar Galactica']\n",
    "for i in dwight:\n",
    "    new_file.write(i + '\\n')\n",
    "new_file.close()"
   ]
  },
  {
   "cell_type": "markdown",
   "metadata": {},
   "source": [
    "Using list comphersion, you can further the code to reduce all whitespace from the file:"
   ]
  },
  {
   "cell_type": "code",
   "execution_count": null,
   "metadata": {},
   "outputs": [],
   "source": [
    "my_file = open(\"OtherFiles/example.txt\",\"r\")\n",
    "lines = [line.strip() for line in my_file]\n",
    "print(lines)\n",
    "\n",
    "my_file.close()"
   ]
  },
  {
   "cell_type": "markdown",
   "metadata": {},
   "source": [
    "# Flow Control Exercise: Convert genotypes\n",
    "\n",
    "Attempt all parts. And don't forget to talk to your neighbor!"
   ]
  },
  {
   "cell_type": "markdown",
   "metadata": {},
   "source": [
    "## Motivation:\n",
    "\n",
    "A biologist is interested in the genetic basis of height. She measures the heights of many subjects and sends off their DNA samples to a core for genotyping arrays. These arrays determine the DNA bases at the variable sites of the genome (known as single nucleotide polymorphisms, or SNPs). Since humans are diploid, i.e. have two of each chromosome, each data point will be two DNA bases corresponding to the two chromosomes in each individual. At each SNP, there will be only three possible genotypes, e.g. AA, AG, GG for an A/G SNP. In order to test the correlation between a SNP genotype and height, she wants to perform a regression with an additive genetic model. However, she cannot do this with the data in the current form. She needs to convert the genotypes, e.g. AA, AG, and GG, to the numbers 0, 1, and 2, respectively (in the example the number corresponds the number of G bases the person has at that SNP). Since she has too much data to do this manually, e.g. in Excel, she comes to you for ideas of how to efficiently transform the data."
   ]
  },
  {
   "cell_type": "markdown",
   "metadata": {},
   "source": [
    "## Intializing File\n",
    "Complete the code below to generate the biologist's data. Look at the file OtherFiles/biodata.txt to understand how the data is formatted. \n",
    "\n",
    "You will have to reopen the data file in Jupyter notebook everytime you run this code to see the changes."
   ]
  },
  {
   "cell_type": "code",
   "execution_count": null,
   "metadata": {},
   "outputs": [],
   "source": [
    "import random\n",
    "\n",
    "samples_length = 10 # feel free to change this variable\n",
    "types = ['AA','AG','GG']\n",
    "\n",
    "open(\"OtherFiles/biodata.txt\", 'w+').close() # clear all previous data\n",
    "data_file = open(\"OtherFiles/biodata.txt\",\"a+\")\n",
    "\n",
    "open(\"OtherFiles/biodata-answers.txt\", 'w+').close() # clear all previous data\n",
    "answers_file = open(\"OtherFiles/biodata-answers.txt\",\"a+\")\n",
    "\n",
    "for i in range(samples_length):\n",
    "    sample_type = random.randint(0,2) # generates 0, 1, or 2 pseudorandomly\n",
    "    answers_file.write(str(sample_type))\n",
    "    data_file.write(\"Genotype #%d: %s\\n\" % (i, types[sample_type]))\n",
    "\n",
    "data_file.close()\n",
    "answers_file.close()"
   ]
  },
  {
   "cell_type": "markdown",
   "metadata": {},
   "source": [
    "## Part 1:\n",
    "\n",
    "Open the input file generated above and create a new list which has the converted genotype for each subject ('AA' -> 0, 'AG' -> 1, 'GG' -> 2). \n",
    "\n",
    "Hint: you can use the types array defined in the initialization to reduce the amount of if statements."
   ]
  },
  {
   "cell_type": "code",
   "execution_count": null,
   "metadata": {},
   "outputs": [],
   "source": [
    "genos = []\n",
    "genos_new = []\n",
    "\n",
    "# Open the file and get the current genos. Don't forget to close it at the end!\n",
    "\n",
    "print(genos)\n",
    "\n",
    "# Use your knowledge of if/else statements and loop structures below to convert genos -> genos_new:\n",
    "\n",
    "print(genos_new)"
   ]
  },
  {
   "cell_type": "markdown",
   "metadata": {},
   "source": [
    "Run the code below to check your work:"
   ]
  },
  {
   "cell_type": "code",
   "execution_count": null,
   "metadata": {},
   "outputs": [],
   "source": [
    "answers_file = open(\"OtherFiles/biodata-answers.txt\",\"r\")\n",
    "answers = [int(i) for i in answers_file.read()]\n",
    "fail = False\n",
    "\n",
    "if len(answers) < len(genos_new):\n",
    "    print(\"Your have too many answers for the dataset.\")\n",
    "if len(answers) > len(genos_new):\n",
    "    print(\"Your have too few answers for the dataset.\")\n",
    "assert(len(answers) == len(genos_new))\n",
    "\n",
    "for case, ans, test in zip(genos, answers, genos_new):\n",
    "    if ans != test:\n",
    "        print(\"Genotype: %s Correct: %d Your Conversion: %d\" % (case, ans, test))\n",
    "        fail = True\n",
    "\n",
    "if not fail:\n",
    "    print(\"You have finished Part 1\")\n",
    "\n",
    "answers_file.close()"
   ]
  },
  {
   "cell_type": "markdown",
   "metadata": {},
   "source": [
    "## Part 2:\n",
    "\n",
    "Count the number of each type of genome and fill out genos_counts."
   ]
  },
  {
   "cell_type": "code",
   "execution_count": null,
   "metadata": {},
   "outputs": [],
   "source": [
    "genos_counts = {\"AA\":0,\"AG\":0,\"GG\":7} # key is string type('AA','AG', or 'GG'), value is count\n",
    "\n",
    "# iterate through genos_new and fill out genos_counts. Use the types array[\"AA\",\"AG\",\"GG\"] for a more clever solution.\n",
    "\n",
    "print(genos_counts)\n",
    "assert(sum(genos_counts.values()) == len(genos)) # this will throw an exception if your counts are incorrect"
   ]
  },
  {
   "cell_type": "markdown",
   "metadata": {},
   "source": [
    "## Part 3:\n",
    "\n",
    "Write your output to a new file \"OtherFiles/new-biodata.txt\" using the following format:\n",
    "\n",
    "    Condensed: 0100100222012\n",
    "    AA count: 6\n",
    "    AG count: 7\n",
    "    GG count: 17\n",
    "    Genotype #0:  AA 0\n",
    "    Genotype #1:  AG 1\n",
    "    ...\n",
    "    Genotype #11: AG 1\n",
    "    Genotype #12: AG 1\n",
    "    \n",
    "Notice that with two digit genotypes there is one less space between \"Genotype #11:\" and \"AG 1\". You will have to manually examine the output file to determine if your solution is correct. Specifically, pay attention to your formatting."
   ]
  },
  {
   "cell_type": "code",
   "execution_count": null,
   "metadata": {},
   "outputs": [],
   "source": [
    "print(\"Condensed: \" + str(answers))\n",
    "print(\"Counts: \" + str(genos_counts))"
   ]
  },
  {
   "cell_type": "markdown",
   "metadata": {},
   "source": [
    "# Short Exercises\n",
    "These are some short exercises to get you thinking about how to apply loops and if statements.\n",
    "\n",
    "## Fibonacci\n",
    "Generate a list of the first n terms of the Fibonacci Sequence where each element is defined as the sum of the previous two in the sequence. Written mathematically: \n",
    "\n",
    "    f(0) = 0\n",
    "    f(1) = 1\n",
    "    f(n) = f(n - 1) + f(n - 2)\n",
    "    \n",
    "Use this defintion to solve the problem. n will always be greater than or equal to 0. What should you return when n is 0, 1, or 2?"
   ]
  },
  {
   "cell_type": "code",
   "execution_count": null,
   "metadata": {},
   "outputs": [],
   "source": [
    "n = 10\n",
    "fib = [0, 1] # starts with the first two values\n",
    "\n",
    "# Your code here\n",
    "\n",
    "\n",
    "\n",
    "\n",
    "# compare output to fibonacci sequence:\n",
    "# 0, 1, 1, 2, 3, 5, 8, 13, 21, 34, 55\n",
    "print(fib) "
   ]
  },
  {
   "cell_type": "markdown",
   "metadata": {},
   "source": [
    "## Matrix Rotation\n",
    "Given a two dimensional array of rows of a matrix m, rotate it 90 degrees clockwise.\n",
    "\n",
    "    m represents this matrix:\n",
    "        1 2 3\n",
    "        4 5 6\n",
    "        7 8 9\n",
    "    Expected output:\n",
    "        7 4 1\n",
    "        8 5 2\n",
    "        9 6 3\n",
    "\n",
    "Challenge: do this without using any lists or dictionaries (no extra memory)."
   ]
  },
  {
   "cell_type": "code",
   "execution_count": null,
   "metadata": {},
   "outputs": [],
   "source": [
    "m = [[1,2,3], [4,5,6], [7,8,9]]\n",
    "print(\"Input:\\n\" + '\\n'.join([' '.join(map(str,i)) for i in m]) + '\\n') # print matrix\n",
    "\n",
    "# Your code here\n",
    "\n",
    "\n",
    "\n",
    "\n",
    "print(\"Result:\\n\" + '\\n'.join([' '.join(map(str,i)) for i in m])) # print matrix"
   ]
  },
  {
   "cell_type": "markdown",
   "metadata": {},
   "source": [
    "## Diamonds\n",
    "Given the height of a diamond h, print a visual representation of the diamond. h will always be even and h > 1.\n",
    "\n",
    "Examples:\n",
    "\n",
    "    h = 6\n",
    "      /\\\n",
    "     /  \\\n",
    "    /    \\\n",
    "    \\    /\n",
    "     \\  /\n",
    "      \\/\n",
    "      \n",
    "     h = 2\n",
    "     /\\\n",
    "     \\/"
   ]
  },
  {
   "cell_type": "code",
   "execution_count": null,
   "metadata": {},
   "outputs": [],
   "source": [
    "# Uncomment a test case to test it\n",
    "# h = 2\n",
    "# h = 6\n",
    "# h = 8\n",
    "\n",
    "# Type out your answer below, make sure to use 'h' as the height."
   ]
  }
 ],
 "metadata": {
  "kernelspec": {
   "display_name": "Python 3",
   "language": "python",
   "name": "python3"
  },
  "language_info": {
   "codemirror_mode": {
    "name": "ipython",
    "version": 3
   },
   "file_extension": ".py",
   "mimetype": "text/x-python",
   "name": "python",
   "nbconvert_exporter": "python",
   "pygments_lexer": "ipython3",
   "version": "3.9.5"
  }
 },
 "nbformat": 4,
 "nbformat_minor": 1
}
