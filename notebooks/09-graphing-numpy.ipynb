{
 "cells": [
  {
   "cell_type": "markdown",
   "metadata": {},
   "source": [
    "# Numpy Arrays\n",
    "In this notebook, we will be exploring the Numpy library that came installed with Anaconda and how to graph its objects using Matplotlib. A Numpy array is a n-dimensional array that is used to represent a vector or matrix in python. Familiarize yourself with initializing and adding elements to numpy arrays below."
   ]
  },
  {
   "cell_type": "code",
   "execution_count": null,
   "metadata": {},
   "outputs": [],
   "source": [
    "import numpy as np # import library"
   ]
  },
  {
   "cell_type": "code",
   "execution_count": null,
   "metadata": {},
   "outputs": [],
   "source": [
    "a = np.array([['1','2','3','4']]) # a is a row vector\n",
    "b = np.array([['1'],['2'],['3'],['4']]) # b is a column vector\n",
    "print(\"a: \" + str(a))\n",
    "print(\"b: \" + str(b))"
   ]
  },
  {
   "cell_type": "markdown",
   "metadata": {},
   "source": [
    "A matrix or vector in numpy.array() is just an array of rows. That is why 'a' and 'b' have different orientations. Numpy also includes a .transpose() method to get the transpose of a numpy array."
   ]
  },
  {
   "cell_type": "code",
   "execution_count": null,
   "metadata": {},
   "outputs": [],
   "source": [
    "print(\"a: \" + str(a.transpose()))\n",
    "print(\"b: \" + str(b.transpose()))"
   ]
  },
  {
   "cell_type": "markdown",
   "metadata": {},
   "source": [
    "Numpy also includes some methods to initialize a matrix/vector to zeros, ones, or random numbers."
   ]
  },
  {
   "cell_type": "code",
   "execution_count": null,
   "metadata": {},
   "outputs": [],
   "source": [
    "c = np.zeros((2,3)) # 2 rows, 3 columns\n",
    "print(c)"
   ]
  },
  {
   "cell_type": "code",
   "execution_count": null,
   "metadata": {},
   "outputs": [],
   "source": [
    "d = np.ones((1,4)) # 1 row, 4 columns\n",
    "print(d)"
   ]
  },
  {
   "cell_type": "code",
   "execution_count": null,
   "metadata": {},
   "outputs": [],
   "source": [
    "#### random will generate number between 0 - 1\n",
    "e = np.random.random((3,4)) # 3 rows, 4 columns\n",
    "print(e)"
   ]
  },
  {
   "cell_type": "markdown",
   "metadata": {},
   "source": [
    "## Quick Exercise\n",
    "Generate a 2x6 matrix where each number is generated randomly on an equal distribution between 1 and 5."
   ]
  },
  {
   "cell_type": "code",
   "execution_count": null,
   "metadata": {},
   "outputs": [],
   "source": [
    "f = None\n",
    "print(f)"
   ]
  },
  {
   "cell_type": "markdown",
   "metadata": {},
   "source": [
    "## Operations\n",
    "The normal operators will be applied element-wise in two matrices."
   ]
  },
  {
   "cell_type": "code",
   "execution_count": null,
   "metadata": {},
   "outputs": [],
   "source": [
    "a = np.array([1, 2])\n",
    "b = np.array([3, 4])"
   ]
  },
  {
   "cell_type": "code",
   "execution_count": null,
   "metadata": {},
   "outputs": [],
   "source": [
    "print(a + b)"
   ]
  },
  {
   "cell_type": "code",
   "execution_count": null,
   "metadata": {},
   "outputs": [],
   "source": [
    "print(a - b)"
   ]
  },
  {
   "cell_type": "code",
   "execution_count": null,
   "metadata": {},
   "outputs": [],
   "source": [
    "print(a * b) # not actual matrix multipication"
   ]
  },
  {
   "cell_type": "code",
   "execution_count": null,
   "metadata": {},
   "outputs": [],
   "source": [
    "print(a / b) # not actual matrix division"
   ]
  },
  {
   "cell_type": "markdown",
   "metadata": {},
   "source": [
    "To take the product of two matrices use the following methods:"
   ]
  },
  {
   "cell_type": "code",
   "execution_count": null,
   "metadata": {},
   "outputs": [],
   "source": [
    "print(a.dot(b))"
   ]
  },
  {
   "cell_type": "markdown",
   "metadata": {},
   "source": [
    "Find the qoutient of a and b by using numpy.linalg.inv(x) to find the inverse of a matrix."
   ]
  },
  {
   "cell_type": "code",
   "execution_count": null,
   "metadata": {},
   "outputs": [],
   "source": []
  },
  {
   "cell_type": "markdown",
   "metadata": {},
   "source": [
    "# Graphing\n",
    "Matplotlib is a 2D plotting library for python. Run the code below to see hwo it interacts with numpy arrays:"
   ]
  },
  {
   "cell_type": "code",
   "execution_count": null,
   "metadata": {},
   "outputs": [],
   "source": [
    "import matplotlib.pyplot as plt"
   ]
  },
  {
   "cell_type": "code",
   "execution_count": null,
   "metadata": {},
   "outputs": [],
   "source": [
    "# Graphing a function\n",
    "a = np.fromfunction(np.log, (1000,1)) # get values of log\n",
    "\n",
    "plt.title(\"Random Numbers\")\n",
    "plt.xlabel('xlabel')\n",
    "plt.ylabel('ylabel')\n",
    "plt.plot(a) # make sure a is a column vector when graphing\n",
    "plt.show()"
   ]
  },
  {
   "cell_type": "code",
   "execution_count": null,
   "metadata": {},
   "outputs": [],
   "source": [
    "# Graphing a histogram\n",
    "\n",
    "# get 1000 floats generated on a normal distribution with mu = 0 and sigma = 0.1\n",
    "# where mu is the mean, and sigma is the standard deviation.\n",
    "a = np.random.normal(0, 0.1, 1000)\n",
    "\n",
    "plt.title(\"Random Numbers\")\n",
    "plt.xlabel('xlabel')\n",
    "plt.ylabel('ylabel')\n",
    "plt.hist(a)\n",
    "plt.show()"
   ]
  },
  {
   "cell_type": "markdown",
   "metadata": {},
   "source": [
    "# Processing Image Exercise\n",
    "In this exercise, you will learn how to use numpy arrays to process images into a 2 dimensional matrix. First, we need to load our images:"
   ]
  },
  {
   "cell_type": "code",
   "execution_count": null,
   "metadata": {},
   "outputs": [],
   "source": [
    "from scipy import misc"
   ]
  },
  {
   "cell_type": "code",
   "execution_count": null,
   "metadata": {},
   "outputs": [],
   "source": [
    "# Load sample 'Ascent' Image\n",
    "\n",
    "ascent = misc.ascent()\n",
    "plt.imshow(ascent)\n",
    "plt.show()\n",
    "print(\"Ascent has %s dimensions.\" % (ascent.shape,))"
   ]
  },
  {
   "cell_type": "code",
   "execution_count": null,
   "metadata": {},
   "outputs": [],
   "source": [
    "# Load sample 'Face' Image\n",
    "\n",
    "face = misc.face()\n",
    "plt.imshow(face)\n",
    "plt.show()\n",
    "\n",
    "print(\"Face has %s dimensions.\" % (face.shape,))"
   ]
  },
  {
   "cell_type": "markdown",
   "metadata": {},
   "source": [
    "Each matrix that represents an image is a 3D matrix where rows, columns, and z are height, width, and RGB value. Using this knowledge, complete the following functions:\n",
    "\n",
    "Hint: to slice a 2D matrice's columns from 2 to 5 you can use\n",
    "    \n",
    "    matrix[: , 2:5]"
   ]
  },
  {
   "cell_type": "code",
   "execution_count": null,
   "metadata": {},
   "outputs": [],
   "source": [
    "def crop(img, x1, y1, w, h):\n",
    "    \"\"\"Returns np array with shape (h, w, 3)\n",
    "    \n",
    "    Crops image to a rectangle with bottom left corner at x1, y1 and top right corner (x1 + w, y1 + h)\n",
    "    \"\"\"\n",
    "    \n",
    "    # Your code here\n",
    "    \n",
    "    return img"
   ]
  },
  {
   "cell_type": "code",
   "execution_count": null,
   "metadata": {},
   "outputs": [],
   "source": [
    "# check to see if it worked\n",
    "cropped_face = crop(face, 400, 100, 400, 500)\n",
    "assert(cropped_face.shape == (500, 400, 3))\n",
    "print(\"Successfully cropped\")\n",
    "\n",
    "plt.imshow(cropped_face)\n",
    "plt.show()"
   ]
  },
  {
   "cell_type": "code",
   "execution_count": null,
   "metadata": {},
   "outputs": [],
   "source": [
    "def getColor(img, color):\n",
    "    \"\"\"Returns np array with shape (h, w, 3)\n",
    "    \n",
    "    Gets matrix representing color in img, where color is the index of the RGB \n",
    "    value we will be grabbing. i.e. 0 = R, 1 = G, 2 = B\n",
    "    \n",
    "    Hint: remember to set the other RGB values as 0\n",
    "    \"\"\"\n",
    "    \n",
    "    # Your code here\n",
    "    \n",
    "    return img[:,:,color]"
   ]
  },
  {
   "cell_type": "code",
   "execution_count": null,
   "metadata": {},
   "outputs": [],
   "source": [
    "# Let's test it out\n",
    "blue_face = getColor(face, 2)\n",
    "assert(blue_face.shape == (face.shape[0], face.shape[1]))\n",
    "print(\"Successfully got color\")\n",
    "\n",
    "plt.imshow(blue_face)\n",
    "plt.show()"
   ]
  },
  {
   "cell_type": "markdown",
   "metadata": {},
   "source": [
    "In image classification, a dataset of images can be processed by converting an image to [grayscale](https://stackoverflow.com/questions/12201577/how-can-i-convert-an-rgb-image-into-grayscale-in-python) and then to a column vector. Then, all these column vectors are concatanated to create a matrix of the dataset that will be used for machine learning training and testing. You can attempt to do this optional exercise below:\n",
    "\n",
    "Hint: If you're unsure of how to do something, when in doubt, use Google or look up on StackOverflow!"
   ]
  },
  {
   "cell_type": "code",
   "execution_count": null,
   "metadata": {},
   "outputs": [],
   "source": [
    "def imgToVector(img):\n",
    "    # Crop the image to be 100, 100, 3\n",
    "\n",
    "    # Convert the image to grayscale to be 100, 100, 1\n",
    "    # Use the grayscale link to see how to do this\n",
    "\n",
    "    # Reshape the matrix to be 100 * 100, 1\n",
    "    \n",
    "    return #grayscale image\n",
    "\n",
    "def dataToMatrix(data):\n",
    "    out = np.array()\n",
    "    \n",
    "    for img in data:\n",
    "        # Convert img to vector\n",
    "        \n",
    "        # Concatenate img vector to out\n",
    "        \n",
    "        pass\n",
    "    \n",
    "    return out"
   ]
  },
  {
   "cell_type": "code",
   "execution_count": null,
   "metadata": {},
   "outputs": [],
   "source": [
    "# Check the shape of the outputs to make sure your implementation is correct\n",
    "print(imgToVector(face).shape)\n",
    "print(dataToMatrix([face, ascent]).shape)"
   ]
  }
 ],
 "metadata": {
  "kernelspec": {
   "display_name": "Python 3",
   "language": "python",
   "name": "python3"
  },
  "language_info": {
   "codemirror_mode": {
    "name": "ipython",
    "version": 3
   },
   "file_extension": ".py",
   "mimetype": "text/x-python",
   "name": "python",
   "nbconvert_exporter": "python",
   "pygments_lexer": "ipython3",
   "version": "3.9.5"
  }
 },
 "nbformat": 4,
 "nbformat_minor": 2
}
